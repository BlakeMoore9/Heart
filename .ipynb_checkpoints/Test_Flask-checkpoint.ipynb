{
 "cells": [
  {
   "cell_type": "code",
   "execution_count": 1,
   "id": "39930f72",
   "metadata": {},
   "outputs": [],
   "source": [
    "import requests\n",
    "import pandas as pd\n",
    "import numpy as np\n",
    "import codecs, json"
   ]
  },
  {
   "cell_type": "code",
   "execution_count": 2,
   "id": "ef285bb0",
   "metadata": {},
   "outputs": [],
   "source": [
    "df = pd.read_csv(r\"D:\\projects\\Heart\\heart.csv\")"
   ]
  },
  {
   "cell_type": "code",
   "execution_count": 3,
   "id": "20c63179",
   "metadata": {},
   "outputs": [
    {
     "data": {
      "text/plain": [
       "{'age': 56.0,\n",
       " 'sex': 1.0,\n",
       " 'cp': 1.0,\n",
       " 'trestbps': 120.0,\n",
       " 'chol': 236.0,\n",
       " 'fbs': 0.0,\n",
       " 'restecg': 1.0,\n",
       " 'thalach': 178.0,\n",
       " 'exang': 0.0,\n",
       " 'oldpeak': 0.8,\n",
       " 'slope': 2.0,\n",
       " 'ca': 0.0,\n",
       " 'thal': 2.0}"
      ]
     },
     "execution_count": 3,
     "metadata": {},
     "output_type": "execute_result"
    }
   ],
   "source": [
    "# so gebe ich es in Json hinein\n",
    "patien = df.iloc[3][:-1].to_dict()\n",
    "patien"
   ]
  },
  {
   "cell_type": "code",
   "execution_count": 9,
   "id": "7ebdfe6d",
   "metadata": {},
   "outputs": [
    {
     "data": {
      "text/plain": [
       "0    175\n",
       "1     65\n",
       "2     38\n",
       "3     20\n",
       "4      5\n",
       "Name: ca, dtype: int64"
      ]
     },
     "execution_count": 9,
     "metadata": {},
     "output_type": "execute_result"
    }
   ],
   "source": [
    "#later: values that are valid in form\n",
    "#df.ca.value_counts()"
   ]
  },
  {
   "cell_type": "code",
   "execution_count": 4,
   "id": "a6e216f6",
   "metadata": {},
   "outputs": [],
   "source": [
    "#pat = pd.Series(patientl).to_json(orient='values')"
   ]
  },
  {
   "cell_type": "code",
   "execution_count": 5,
   "id": "0547167d",
   "metadata": {},
   "outputs": [],
   "source": [
    "url = 'http://localhost:9696/predict_api'"
   ]
  },
  {
   "cell_type": "code",
   "execution_count": 6,
   "id": "ccfd2055",
   "metadata": {
    "scrolled": false
   },
   "outputs": [],
   "source": [
    "# Send a post request with dict \n",
    "response = requests.post(url, json=patien)"
   ]
  },
  {
   "cell_type": "code",
   "execution_count": 7,
   "id": "4168f722",
   "metadata": {},
   "outputs": [
    {
     "data": {
      "text/plain": [
       "{'Probability of Heartsickness': 0.721, 'Send to Doctor': True}"
      ]
     },
     "execution_count": 7,
     "metadata": {},
     "output_type": "execute_result"
    }
   ],
   "source": [
    "response.json()\n"
   ]
  },
  {
   "cell_type": "markdown",
   "id": "278ab322",
   "metadata": {},
   "source": [
    "The response code <Response [200]> is a status code that indicates a successful HTTP request. Specifically, 200 means that the server has fulfilled the request and returned a response with the requested data. In the context of a Flask API, it usually means that the request was processed successfully and the response was sent back to the client without any errors."
   ]
  },
  {
   "cell_type": "code",
   "execution_count": null,
   "id": "4e74baf4",
   "metadata": {},
   "outputs": [],
   "source": []
  }
 ],
 "metadata": {
  "kernelspec": {
   "display_name": "Python 3 (ipykernel)",
   "language": "python",
   "name": "python3"
  },
  "language_info": {
   "codemirror_mode": {
    "name": "ipython",
    "version": 3
   },
   "file_extension": ".py",
   "mimetype": "text/x-python",
   "name": "python",
   "nbconvert_exporter": "python",
   "pygments_lexer": "ipython3",
   "version": "3.10.9"
  },
  "toc": {
   "base_numbering": 1,
   "nav_menu": {},
   "number_sections": true,
   "sideBar": true,
   "skip_h1_title": false,
   "title_cell": "Table of Contents",
   "title_sidebar": "Contents",
   "toc_cell": false,
   "toc_position": {},
   "toc_section_display": true,
   "toc_window_display": false
  },
  "varInspector": {
   "cols": {
    "lenName": 16,
    "lenType": 16,
    "lenVar": 40
   },
   "kernels_config": {
    "python": {
     "delete_cmd_postfix": "",
     "delete_cmd_prefix": "del ",
     "library": "var_list.py",
     "varRefreshCmd": "print(var_dic_list())"
    },
    "r": {
     "delete_cmd_postfix": ") ",
     "delete_cmd_prefix": "rm(",
     "library": "var_list.r",
     "varRefreshCmd": "cat(var_dic_list()) "
    }
   },
   "types_to_exclude": [
    "module",
    "function",
    "builtin_function_or_method",
    "instance",
    "_Feature"
   ],
   "window_display": false
  }
 },
 "nbformat": 4,
 "nbformat_minor": 5
}
