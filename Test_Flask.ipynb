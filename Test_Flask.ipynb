{
 "cells": [
  {
   "cell_type": "code",
   "execution_count": 8,
   "id": "39930f72",
   "metadata": {},
   "outputs": [],
   "source": [
    "import requests\n",
    "import pandas as pd\n",
    "import numpy as np\n",
    "import codecs, json"
   ]
  },
  {
   "cell_type": "code",
   "execution_count": 9,
   "id": "ef285bb0",
   "metadata": {},
   "outputs": [],
   "source": [
    "df = pd.read_csv(r\"D:\\projects\\Heart\\heart.csv\")"
   ]
  },
  {
   "cell_type": "code",
   "execution_count": 10,
   "id": "20c63179",
   "metadata": {},
   "outputs": [
    {
     "data": {
      "text/plain": [
       "{'age': 63.0,\n",
       " 'sex': 1.0,\n",
       " 'cp': 3.0,\n",
       " 'trestbps': 145.0,\n",
       " 'chol': 233.0,\n",
       " 'fbs': 1.0,\n",
       " 'restecg': 0.0,\n",
       " 'thalach': 150.0,\n",
       " 'exang': 0.0,\n",
       " 'oldpeak': 2.3,\n",
       " 'slope': 0.0,\n",
       " 'ca': 0.0,\n",
       " 'thal': 1.0}"
      ]
     },
     "execution_count": 10,
     "metadata": {},
     "output_type": "execute_result"
    }
   ],
   "source": [
    "# so gebe ich es in Json hinein\n",
    "patien = df.iloc[0][:-1].to_dict()\n",
    "patien"
   ]
  },
  {
   "cell_type": "code",
   "execution_count": 11,
   "id": "a6e216f6",
   "metadata": {},
   "outputs": [],
   "source": [
    "#pat = pd.Series(patientl).to_json(orient='values')"
   ]
  },
  {
   "cell_type": "code",
   "execution_count": 12,
   "id": "0547167d",
   "metadata": {},
   "outputs": [],
   "source": [
    "url = 'http://localhost:9696/predict'"
   ]
  },
  {
   "cell_type": "code",
   "execution_count": 13,
   "id": "ccfd2055",
   "metadata": {
    "scrolled": false
   },
   "outputs": [],
   "source": [
    "# Send a post request with dict \n",
    "response = requests.post(url, json=patien)"
   ]
  },
  {
   "cell_type": "code",
   "execution_count": 14,
   "id": "4168f722",
   "metadata": {},
   "outputs": [
    {
     "data": {
      "text/plain": [
       "{'Probability of Heartsickness': 0.6080000410044084, 'Send to Doctor': True}"
      ]
     },
     "execution_count": 14,
     "metadata": {},
     "output_type": "execute_result"
    }
   ],
   "source": [
    "response.json()\n"
   ]
  },
  {
   "cell_type": "markdown",
   "id": "278ab322",
   "metadata": {},
   "source": [
    "The response code <Response [200]> is a status code that indicates a successful HTTP request. Specifically, 200 means that the server has fulfilled the request and returned a response with the requested data. In the context of a Flask API, it usually means that the request was processed successfully and the response was sent back to the client without any errors."
   ]
  },
  {
   "cell_type": "code",
   "execution_count": null,
   "id": "4e74baf4",
   "metadata": {},
   "outputs": [],
   "source": []
  }
 ],
 "metadata": {
  "kernelspec": {
   "display_name": "Python 3 (ipykernel)",
   "language": "python",
   "name": "python3"
  },
  "language_info": {
   "codemirror_mode": {
    "name": "ipython",
    "version": 3
   },
   "file_extension": ".py",
   "mimetype": "text/x-python",
   "name": "python",
   "nbconvert_exporter": "python",
   "pygments_lexer": "ipython3",
   "version": "3.10.9"
  },
  "toc": {
   "base_numbering": 1,
   "nav_menu": {},
   "number_sections": true,
   "sideBar": true,
   "skip_h1_title": false,
   "title_cell": "Table of Contents",
   "title_sidebar": "Contents",
   "toc_cell": false,
   "toc_position": {},
   "toc_section_display": true,
   "toc_window_display": false
  },
  "varInspector": {
   "cols": {
    "lenName": 16,
    "lenType": 16,
    "lenVar": 40
   },
   "kernels_config": {
    "python": {
     "delete_cmd_postfix": "",
     "delete_cmd_prefix": "del ",
     "library": "var_list.py",
     "varRefreshCmd": "print(var_dic_list())"
    },
    "r": {
     "delete_cmd_postfix": ") ",
     "delete_cmd_prefix": "rm(",
     "library": "var_list.r",
     "varRefreshCmd": "cat(var_dic_list()) "
    }
   },
   "types_to_exclude": [
    "module",
    "function",
    "builtin_function_or_method",
    "instance",
    "_Feature"
   ],
   "window_display": false
  }
 },
 "nbformat": 4,
 "nbformat_minor": 5
}
