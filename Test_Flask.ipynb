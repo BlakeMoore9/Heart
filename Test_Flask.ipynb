{
 "cells": [
  {
   "cell_type": "code",
   "execution_count": 83,
   "id": "39930f72",
   "metadata": {},
   "outputs": [],
   "source": [
    "import requests\n",
    "import pandas as pd\n",
    "import numpy as np"
   ]
  },
  {
   "cell_type": "code",
   "execution_count": 84,
   "id": "ef285bb0",
   "metadata": {},
   "outputs": [],
   "source": [
    "df = pd.read_csv(r\"D:\\projects\\Heart\\heart.csv\")"
   ]
  },
  {
   "cell_type": "code",
   "execution_count": 85,
   "id": "b22aeb66",
   "metadata": {},
   "outputs": [],
   "source": [
    "number = 5"
   ]
  },
  {
   "cell_type": "code",
   "execution_count": 86,
   "id": "34d314d1",
   "metadata": {},
   "outputs": [
    {
     "data": {
      "text/plain": [
       "age          57.0\n",
       "sex           1.0\n",
       "cp            0.0\n",
       "trestbps    140.0\n",
       "chol        192.0\n",
       "fbs           0.0\n",
       "restecg       1.0\n",
       "thalach     148.0\n",
       "exang         0.0\n",
       "oldpeak       0.4\n",
       "slope         1.0\n",
       "ca            0.0\n",
       "thal          1.0\n",
       "target        1.0\n",
       "Name: 5, dtype: float64"
      ]
     },
     "execution_count": 86,
     "metadata": {},
     "output_type": "execute_result"
    }
   ],
   "source": [
    "patien = df.iloc[number]\n",
    "patien"
   ]
  },
  {
   "cell_type": "code",
   "execution_count": 87,
   "id": "20c63179",
   "metadata": {},
   "outputs": [
    {
     "data": {
      "text/plain": [
       "{'age': 57.0,\n",
       " 'sex': 1.0,\n",
       " 'cp': 0.0,\n",
       " 'trestbps': 140.0,\n",
       " 'chol': 192.0,\n",
       " 'fbs': 0.0,\n",
       " 'restecg': 1.0,\n",
       " 'thalach': 148.0,\n",
       " 'exang': 0.0,\n",
       " 'oldpeak': 0.4,\n",
       " 'slope': 1.0,\n",
       " 'ca': 0.0,\n",
       " 'thal': 1.0}"
      ]
     },
     "execution_count": 87,
     "metadata": {},
     "output_type": "execute_result"
    }
   ],
   "source": [
    "# so gebe ich es in Json hinein\n",
    "patien = df.iloc[number][:-1].to_dict()\n",
    "patien"
   ]
  },
  {
   "cell_type": "code",
   "execution_count": 88,
   "id": "a6e216f6",
   "metadata": {},
   "outputs": [],
   "source": [
    "#pat = pd.Series(patientl).to_json(orient='values')"
   ]
  },
  {
   "cell_type": "code",
   "execution_count": 89,
   "id": "0547167d",
   "metadata": {},
   "outputs": [],
   "source": [
    "url = 'http://localhost:9696/predict_api'"
   ]
  },
  {
   "cell_type": "code",
   "execution_count": 90,
   "id": "ccfd2055",
   "metadata": {
    "scrolled": false
   },
   "outputs": [],
   "source": [
    "# Send a post request with dict \n",
    "response = requests.post(url, json=patien)"
   ]
  },
  {
   "cell_type": "code",
   "execution_count": 91,
   "id": "4168f722",
   "metadata": {},
   "outputs": [
    {
     "data": {
      "text/plain": [
       "{'Probability of Heartsickness': 0.637, 'Send to Doctor': True}"
      ]
     },
     "execution_count": 91,
     "metadata": {},
     "output_type": "execute_result"
    }
   ],
   "source": [
    "response.json()\n"
   ]
  },
  {
   "cell_type": "markdown",
   "id": "278ab322",
   "metadata": {},
   "source": [
    "The response code <Response [200]> is a status code that indicates a successful HTTP request. Specifically, 200 means that the server has fulfilled the request and returned a response with the requested data. In the context of a Flask API, it usually means that the request was processed successfully and the response was sent back to the client without any errors."
   ]
  },
  {
   "cell_type": "code",
   "execution_count": null,
   "id": "4e74baf4",
   "metadata": {},
   "outputs": [],
   "source": []
  }
 ],
 "metadata": {
  "kernelspec": {
   "display_name": "Python 3",
   "language": "python",
   "name": "python3"
  },
  "language_info": {
   "codemirror_mode": {
    "name": "ipython",
    "version": 3
   },
   "file_extension": ".py",
   "mimetype": "text/x-python",
   "name": "python",
   "nbconvert_exporter": "python",
   "pygments_lexer": "ipython3",
   "version": "3.10.9"
  },
  "toc": {
   "base_numbering": 1,
   "nav_menu": {},
   "number_sections": true,
   "sideBar": true,
   "skip_h1_title": false,
   "title_cell": "Table of Contents",
   "title_sidebar": "Contents",
   "toc_cell": false,
   "toc_position": {},
   "toc_section_display": true,
   "toc_window_display": false
  },
  "varInspector": {
   "cols": {
    "lenName": 16,
    "lenType": 16,
    "lenVar": 40
   },
   "kernels_config": {
    "python": {
     "delete_cmd_postfix": "",
     "delete_cmd_prefix": "del ",
     "library": "var_list.py",
     "varRefreshCmd": "print(var_dic_list())"
    },
    "r": {
     "delete_cmd_postfix": ") ",
     "delete_cmd_prefix": "rm(",
     "library": "var_list.r",
     "varRefreshCmd": "cat(var_dic_list()) "
    }
   },
   "types_to_exclude": [
    "module",
    "function",
    "builtin_function_or_method",
    "instance",
    "_Feature"
   ],
   "window_display": false
  },
  "vscode": {
   "interpreter": {
    "hash": "bb6635d42d3e473daff78ef2b4360c035fb64cfdab7a05e03a48b511d33f7bf5"
   }
  }
 },
 "nbformat": 4,
 "nbformat_minor": 5
}
